{
 "cells": [
  {
   "cell_type": "code",
   "execution_count": null,
   "metadata": {
    "vscode": {
     "languageId": "javascript"
    }
   },
   "outputs": [],
   "source": [
    "function kalkulator2(num1, num2, operator) {\n",
    "    if (typeof num1 !== \"number\" || typeof num2 !== \"number\") {\n",
    "        return \"Feil: Begge argumentene må være tall!\";\n",
    "    }\n",
    "\n",
    "    switch (operator) {\n",
    "        case \"+\":\n",
    "            return num1 + num2;\n",
    "        case \"-\":\n",
    "            return num1 - num2;\n",
    "        case \"*\":\n",
    "            return num1 * num2;\n",
    "        case \"/\":\n",
    "            return num1 / num2;\n",
    "        default:\n",
    "            return \"Feil: Ikke en gyldig operasjon!\";\n",
    "    }\n",
    "}\n",
    "\n",
    "console.log(kalkulator(10, 5, \"+\")); // 15\n",
    "console.log(kalkulator(10, 5, \"-\")); // 5\n",
    "console.log(kalkulator(10, 5, \"*\")); // 50\n",
    "console.log(kalkulator(10, 5, \"/\")); // 2\n",
    "console.log(kalkulator(10, \"fem\", \"+\")); // Feil: Begge argumentene må være tall!\n",
    "console.log(kalkulator(10, 5, \"%\")); // Feil: Ikke en gyldig operasjon!"
   ]
  },
  {
   "cell_type": "markdown",
   "metadata": {
    "vscode": {
     "languageId": "javascript"
    }
   },
   "source": [
    "The code defines a function named `kalkulator2` that performs basic arithmetic operations (addition, subtraction, multiplication, and division) on two numbers. The function takes three parameters: `num1`, `num2`, and `operator`. It first checks if both `num1` and `num2` are numbers. If not, it returns an error message. Then, it uses a switch statement to determine the operation to perform based on the `operator` parameter. If the operator is not valid, it returns an error message. The code also includes several examples of calling the `kalkulator2` function with different arguments and logging the results to the console."
   ]
  }
 ],
 "metadata": {
  "language_info": {
   "name": "python"
  }
 },
 "nbformat": 4,
 "nbformat_minor": 2
}
